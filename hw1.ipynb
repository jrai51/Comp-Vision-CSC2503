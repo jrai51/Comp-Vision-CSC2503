{
 "cells": [
  {
   "cell_type": "code",
   "execution_count": 9,
   "id": "97482d58",
   "metadata": {},
   "outputs": [
    {
     "name": "stdout",
     "output_type": "stream",
     "text": [
      "Torch: 2.6.0+cu124\n",
      "CUDA available: True\n",
      "CUDA version reported by torch: 12.4\n",
      "Device count: 1\n",
      "Device 0: NVIDIA GeForce RTX 4070 Laptop GPU\n"
     ]
    }
   ],
   "source": [
    "import torch\n",
    "print(\"Torch:\", torch.__version__)\n",
    "print(\"CUDA available:\", torch.cuda.is_available())\n",
    "print(\"CUDA version reported by torch:\", torch.version.cuda)\n",
    "print(\"Device count:\", torch.cuda.device_count())\n",
    "if torch.cuda.is_available():\n",
    "    print(\"Device 0:\", torch.cuda.get_device_name(0))"
   ]
  },
  {
   "cell_type": "code",
   "execution_count": 10,
   "id": "9cd1716a",
   "metadata": {},
   "outputs": [],
   "source": [
    "from tqdm import tqdm\n",
    "\n",
    "import torch.nn as nn\n",
    "import torch.nn.functional as F\n",
    "\n",
    "class SimpleCNN(nn.Module):\n",
    "    # Expects input images of size (3, 224, 224)\n",
    "    def __init__(self, num_classes=7):\n",
    "        super(SimpleCNN, self).__init__()\n",
    "        self.conv1 = nn.Conv2d(3, 16, kernel_size=3, padding=1)\n",
    "        self.bn1 = nn.BatchNorm2d(16)\n",
    "        self.conv2 = nn.Conv2d(16, 16, kernel_size=3, padding=1)\n",
    "        self.pool1 = nn.MaxPool2d(2, 2)\n",
    "        self.conv3 = nn.Conv2d(16, 8, kernel_size=3, padding=1)\n",
    "        self.bn2 = nn.BatchNorm2d(8)\n",
    "        self.conv4 = nn.Conv2d(8, 8, kernel_size=3, padding=1)\n",
    "        self.pool2 = nn.MaxPool2d(2, 2)\n",
    "        self.dropout1 = nn.Dropout(0.5)\n",
    "        self.fc1 = nn.Linear(8 * 56 * 56, 32)\n",
    "        self.dropout2 = nn.Dropout(0.5)\n",
    "        self.fc2 = nn.Linear(32, num_classes)\n",
    "\n",
    "    def forward(self, x):\n",
    "        x = F.relu(self.bn1(self.conv1(x)))\n",
    "        x = F.relu(self.conv2(x))\n",
    "        x = self.pool1(x)\n",
    "        x = F.relu(self.bn2(self.conv3(x)))\n",
    "        x = F.relu(self.conv4(x))\n",
    "        x = self.pool2(x)\n",
    "        x = self.dropout1(x)\n",
    "        x = x.view(x.size(0), -1)\n",
    "        x = F.relu(self.fc1(x))\n",
    "        x = self.dropout2(x)\n",
    "        # NOTE: no softmax here; CrossEntropyLoss does the softmax internally\n",
    "        x = self.fc2(x)\n",
    "        return x\n",
    "    \n",
    "class SimpleCNN2(nn.Module):\n",
    "    # Expects input images of size (3, 224, 224)\n",
    "    def __init__(self, num_classes=7):\n",
    "        super(SimpleCNN2, self).__init__()\n",
    "        self.conv1 = nn.Conv2d(3, 16, kernel_size=3, padding=1)\n",
    "        self.bn1 = nn.BatchNorm2d(16)\n",
    "        self.conv2 = nn.Conv2d(16, 16, kernel_size=3, padding=1)\n",
    "        self.pool1 = nn.MaxPool2d(2, 2)\n",
    "        self.conv3 = nn.Conv2d(16, 8, kernel_size=3, padding=1)\n",
    "        self.bn2 = nn.BatchNorm2d(8)\n",
    "        self.conv4 = nn.Conv2d(8, 8, kernel_size=3, padding=1)\n",
    "        self.pool2 = nn.MaxPool2d(2, 2)\n",
    "        self.fc1 = nn.Linear(8 * 56 * 56, 32)\n",
    "        self.fc2 = nn.Linear(32, num_classes)\n",
    "\n",
    "    def forward(self, x):\n",
    "        x = F.relu(self.bn1(self.conv1(x)))\n",
    "        x = F.relu(self.conv2(x))\n",
    "        x = self.pool1(x)\n",
    "        x = F.relu(self.bn2(self.conv3(x)))\n",
    "        x = F.relu(self.conv4(x))\n",
    "        x = self.pool2(x)\n",
    "        x = x.view(x.size(0), -1)\n",
    "        x = F.relu(self.fc1(x))\n",
    "        # NOTE: no softmax here; CrossEntropyLoss does the softmax internally\n",
    "        x = self.fc2(x)\n",
    "        return x\n",
    "    \n",
    "def train_validate_cnn(model, train_loader, val_loader, criterion, optimizer, num_epochs, device):\n",
    "    train_losses = []\n",
    "    val_losses = []\n",
    "\n",
    "    model.to(device)\n",
    "\n",
    "    for epoch in range(num_epochs):\n",
    "        # Training phase\n",
    "        model.train()\n",
    "        running_train_loss = 0.0\n",
    "        train_iter = tqdm(train_loader, desc=f\"Epoch {epoch+1}/{num_epochs} [Train]\", leave=False)\n",
    "        for i, (inputs, labels) in enumerate(train_iter):\n",
    "            inputs, labels = inputs.to(device), labels.to(device)\n",
    "            optimizer.zero_grad()\n",
    "            outputs = model(inputs)\n",
    "            loss = criterion(outputs, labels)\n",
    "            loss.backward()\n",
    "            optimizer.step()\n",
    "            running_train_loss += loss.item()\n",
    "            train_iter.set_postfix(loss=loss.item())\n",
    "\n",
    "        avg_train_loss = running_train_loss / len(train_loader)\n",
    "        train_losses.append(avg_train_loss)\n",
    "\n",
    "        # Validation phase\n",
    "        model.eval()\n",
    "        running_val_loss = 0.0\n",
    "        val_iter = tqdm(val_loader, desc=f\"Epoch {epoch+1}/{num_epochs} [Val]\", leave=False)\n",
    "        with torch.no_grad():\n",
    "            for inputs, labels in val_iter:\n",
    "                inputs, labels = inputs.to(device), labels.to(device)\n",
    "                outputs = model(inputs)\n",
    "                loss = criterion(outputs, labels)\n",
    "                running_val_loss += loss.item()\n",
    "                val_iter.set_postfix(loss=loss.item())\n",
    "\n",
    "        avg_val_loss = running_val_loss / len(val_loader)\n",
    "        val_losses.append(avg_val_loss)\n",
    "\n",
    "        print(f\"Epoch {epoch+1}/{num_epochs}: Train Loss: {avg_train_loss:.4f}, Val Loss: {avg_val_loss:.4f}\")\n",
    "\n",
    "    return train_losses, val_losses\n"
   ]
  },
  {
   "cell_type": "code",
   "execution_count": 11,
   "id": "359cd4c5",
   "metadata": {},
   "outputs": [
    {
     "data": {
      "image/png": "[encoded data removed]",
      "text/plain": [
       "<Figure size 640x480 with 1 Axes>"
      ]
     },
     "metadata": {},
     "output_type": "display_data"
    },
    {
     "name": "stdout",
     "output_type": "stream",
     "text": [
      "chihuahua border_collie bernese_mountain_dog chihuahua\n"
     ]
    }
   ],
   "source": [
    "# Test loader is dog-breed-images\n",
    "from torchvision import datasets, transforms, utils\n",
    "from torch.utils.data import DataLoader, Subset\n",
    "\n",
    "image_path = \"dog-breed-images/\"\n",
    "\n",
    "\n",
    "# TRAIN: random augmentations \n",
    "train_tfms = transforms.Compose([\n",
    "    transforms.RandomResizedCrop(224, scale=(0.8, 1.0)),\n",
    "    transforms.RandomHorizontalFlip(p=0.5),\n",
    "    transforms.ColorJitter(brightness=0.15, contrast=0.15, saturation=0.15, hue=0.02),\n",
    "    transforms.RandomRotation(degrees=10, fill=0),  # small rotation\n",
    "    transforms.ToTensor(),\n",
    "    transforms.RandomErasing(p=0.1, scale=(0.02, 0.1), value='random')\n",
    "])\n",
    "\n",
    "base_transform = transforms.Compose([\n",
    "    transforms.Resize((224, 224)),\n",
    "    transforms.ToTensor()\n",
    "])\n",
    "\n",
    "base_dataset = datasets.ImageFolder(image_path)  # no transform here\n",
    "\n",
    "# 60/10/30 split (train/val/test)\n",
    "n = len(base_dataset)\n",
    "train_size = int(0.6 * n)\n",
    "val_size   = int(0.1 * n)\n",
    "test_size  = n - train_size - val_size  # ~30%\n",
    "gen = torch.Generator().manual_seed(42)\n",
    "train_subset, val_subset, test_subset = torch.utils.data.random_split(\n",
    "    base_dataset, [train_size, val_size, test_size], generator=gen\n",
    ")\n",
    "\n",
    "# rewrap each split with its own transforms by creating new ImageFolder objects\n",
    "train_dataset = Subset(datasets.ImageFolder(image_path, transform=train_tfms), train_subset.indices)\n",
    "val_dataset   = Subset(datasets.ImageFolder(image_path, transform=base_transform),  val_subset.indices)\n",
    "test_dataset  = Subset(datasets.ImageFolder(image_path, transform=base_transform),  test_subset.indices)\n",
    "\n",
    "# DataLoaders\n",
    "cuda = torch.cuda.is_available()\n",
    "common_loader_kwargs = dict(num_workers=2, pin_memory=cuda, persistent_workers=(2 > 0))\n",
    "\n",
    "train_loader = DataLoader(train_dataset, batch_size=32, shuffle=True,  drop_last=True,  **common_loader_kwargs)\n",
    "val_loader   = DataLoader(val_dataset,   batch_size=32, shuffle=False, drop_last=False, **common_loader_kwargs)\n",
    "test_loader  = DataLoader(test_dataset,  batch_size=32, shuffle=False, drop_last=False, **common_loader_kwargs)\n",
    "\n",
    "# If you want to print class names:\n",
    "classes = datasets.ImageFolder(image_path).classes\n",
    "\n",
    "\n",
    "# visualize a batch of images\n",
    "import matplotlib.pyplot as plt\n",
    "import numpy as np\n",
    "def imshow(img):\n",
    "    # img = img / 2 + 0.5  # unnormalize\n",
    "    npimg = img.numpy()\n",
    "    plt.imshow(np.transpose(npimg, (1, 2, 0)))\n",
    "    plt.show()\n",
    "\n",
    "\n",
    "# get some random training images\n",
    "dataiter = iter(train_loader)\n",
    "images, labels = next(dataiter)\n",
    "# show images\n",
    "imshow(utils.make_grid(images[:4]))\n",
    "# print labels\n",
    "print(' '.join(f'{classes[labels[j]]:5s}' for j in range(4)))\n",
    "\n",
    "\n",
    "def test_model(model, test_loader, device):\n",
    "    # Test the model\n",
    "    model.eval()\n",
    "    correct = 0\n",
    "    total = 0\n",
    "    with torch.no_grad():\n",
    "        for images, labels in tqdm(test_loader, desc=\"Testing\", leave=False):\n",
    "            images, labels = images.to(device), labels.to(device)\n",
    "            outputs = model(images)\n",
    "            _, predicted = torch.max(outputs.data, 1)\n",
    "            total += labels.size(0)\n",
    "            correct += (predicted == labels).sum().item()\n",
    "\n",
    "    test_accuracy = 100 * correct / total\n",
    "    print(f'Test Accuracy: {test_accuracy:.2f}%')\n",
    "    return test_accuracy\n",
    "\n",
    "device = torch.device(\"cuda\" if torch.cuda.is_available() else \"cpu\")\n",
    "\n"
   ]
  },
  {
   "cell_type": "code",
   "execution_count": 12,
   "id": "3c32c488",
   "metadata": {},
   "outputs": [
    {
     "name": "stderr",
     "output_type": "stream",
     "text": [
      "                                                                              \r"
     ]
    },
    {
     "name": "stdout",
     "output_type": "stream",
     "text": [
      "Epoch 1/10: Train Loss: 2.0422, Val Loss: 1.9226\n"
     ]
    },
    {
     "name": "stderr",
     "output_type": "stream",
     "text": [
      "                                                                              \r"
     ]
    },
    {
     "name": "stdout",
     "output_type": "stream",
     "text": [
      "Epoch 2/10: Train Loss: 1.9350, Val Loss: 1.9069\n"
     ]
    },
    {
     "name": "stderr",
     "output_type": "stream",
     "text": [
      "                                                                              \r"
     ]
    },
    {
     "name": "stdout",
     "output_type": "stream",
     "text": [
      "Epoch 3/10: Train Loss: 1.8870, Val Loss: 1.8461\n"
     ]
    },
    {
     "name": "stderr",
     "output_type": "stream",
     "text": [
      "                                                                              \r"
     ]
    },
    {
     "name": "stdout",
     "output_type": "stream",
     "text": [
      "Epoch 4/10: Train Loss: 1.8629, Val Loss: 1.8145\n"
     ]
    },
    {
     "name": "stderr",
     "output_type": "stream",
     "text": [
      "                                                                              \r"
     ]
    },
    {
     "name": "stdout",
     "output_type": "stream",
     "text": [
      "Epoch 5/10: Train Loss: 1.8533, Val Loss: 1.7899\n"
     ]
    },
    {
     "name": "stderr",
     "output_type": "stream",
     "text": [
      "                                                                              \r"
     ]
    },
    {
     "name": "stdout",
     "output_type": "stream",
     "text": [
      "Epoch 6/10: Train Loss: 1.8543, Val Loss: 1.7755\n"
     ]
    },
    {
     "name": "stderr",
     "output_type": "stream",
     "text": [
      "                                                                              \r"
     ]
    },
    {
     "name": "stdout",
     "output_type": "stream",
     "text": [
      "Epoch 7/10: Train Loss: 1.8255, Val Loss: 1.8114\n"
     ]
    },
    {
     "name": "stderr",
     "output_type": "stream",
     "text": [
      "                                                                              \r"
     ]
    },
    {
     "name": "stdout",
     "output_type": "stream",
     "text": [
      "Epoch 8/10: Train Loss: 1.7834, Val Loss: 1.7538\n"
     ]
    },
    {
     "name": "stderr",
     "output_type": "stream",
     "text": [
      "                                                                              \r"
     ]
    },
    {
     "name": "stdout",
     "output_type": "stream",
     "text": [
      "Epoch 9/10: Train Loss: 1.7835, Val Loss: 1.7052\n"
     ]
    },
    {
     "name": "stderr",
     "output_type": "stream",
     "text": [
      "                                                                               \r"
     ]
    },
    {
     "name": "stdout",
     "output_type": "stream",
     "text": [
      "Epoch 10/10: Train Loss: 1.7714, Val Loss: 1.6993\n"
     ]
    },
    {
     "name": "stderr",
     "output_type": "stream",
     "text": [
      "                                                      "
     ]
    },
    {
     "name": "stdout",
     "output_type": "stream",
     "text": [
      "Test Accuracy: 34.87%\n"
     ]
    },
    {
     "name": "stderr",
     "output_type": "stream",
     "text": [
      "\r"
     ]
    },
    {
     "data": {
      "image/png": "[encoded data removed]",
      "text/plain": [
       "<Figure size 640x480 with 1 Axes>"
      ]
     },
     "metadata": {},
     "output_type": "display_data"
    }
   ],
   "source": [
    "\n",
    "# Define criterion and optimizer\n",
    "model = SimpleCNN(num_classes=len(train_loader.dataset.dataset.classes)).to(device)\n",
    "criterion = nn.CrossEntropyLoss()\n",
    "optimizer = torch.optim.Adam(model.parameters(), lr=0.001, weight_decay=1e-5)\n",
    "\n",
    "# Training loop\n",
    "epochs = 10\n",
    "train_losses, val_losses = train_validate_cnn(model, train_loader, val_loader, criterion, optimizer, epochs, device)\n",
    "\n",
    "# Test the model\n",
    "test_model(model, test_loader, device)\n",
    "\n",
    "# Plot training and validation loss\n",
    "plt.plot(train_losses, label='Training Loss')\n",
    "plt.plot(val_losses, label='Validation Loss')\n",
    "plt.xlabel('Epoch')\n",
    "plt.ylabel('Loss')\n",
    "plt.legend()\n",
    "plt.show()\n"
   ]
  },
  {
   "cell_type": "code",
   "execution_count": 13,
   "id": "255cf788",
   "metadata": {},
   "outputs": [
    {
     "name": "stderr",
     "output_type": "stream",
     "text": [
      "                                                                              \r"
     ]
    },
    {
     "name": "stdout",
     "output_type": "stream",
     "text": [
      "Epoch 1/10: Train Loss: 1.9834, Val Loss: 1.9277\n"
     ]
    },
    {
     "name": "stderr",
     "output_type": "stream",
     "text": [
      "                                                                              \r"
     ]
    },
    {
     "name": "stdout",
     "output_type": "stream",
     "text": [
      "Epoch 2/10: Train Loss: 1.8630, Val Loss: 1.9257\n"
     ]
    },
    {
     "name": "stderr",
     "output_type": "stream",
     "text": [
      "                                                                              \r"
     ]
    },
    {
     "name": "stdout",
     "output_type": "stream",
     "text": [
      "Epoch 3/10: Train Loss: 1.8174, Val Loss: 1.8726\n"
     ]
    },
    {
     "name": "stderr",
     "output_type": "stream",
     "text": [
      "                                                                              \r"
     ]
    },
    {
     "name": "stdout",
     "output_type": "stream",
     "text": [
      "Epoch 4/10: Train Loss: 1.7104, Val Loss: 1.7607\n"
     ]
    },
    {
     "name": "stderr",
     "output_type": "stream",
     "text": [
      "                                                                              \r"
     ]
    },
    {
     "name": "stdout",
     "output_type": "stream",
     "text": [
      "Epoch 5/10: Train Loss: 1.6152, Val Loss: 1.7443\n"
     ]
    },
    {
     "name": "stderr",
     "output_type": "stream",
     "text": [
      "                                                                              \r"
     ]
    },
    {
     "name": "stdout",
     "output_type": "stream",
     "text": [
      "Epoch 6/10: Train Loss: 1.5670, Val Loss: 1.8048\n"
     ]
    },
    {
     "name": "stderr",
     "output_type": "stream",
     "text": [
      "                                                                              \r"
     ]
    },
    {
     "name": "stdout",
     "output_type": "stream",
     "text": [
      "Epoch 7/10: Train Loss: 1.4898, Val Loss: 1.5915\n"
     ]
    },
    {
     "name": "stderr",
     "output_type": "stream",
     "text": [
      "                                                                              \r"
     ]
    },
    {
     "name": "stdout",
     "output_type": "stream",
     "text": [
      "Epoch 8/10: Train Loss: 1.4933, Val Loss: 1.5506\n"
     ]
    },
    {
     "name": "stderr",
     "output_type": "stream",
     "text": [
      "                                                                              \r"
     ]
    },
    {
     "name": "stdout",
     "output_type": "stream",
     "text": [
      "Epoch 9/10: Train Loss: 1.4401, Val Loss: 1.6376\n"
     ]
    },
    {
     "name": "stderr",
     "output_type": "stream",
     "text": [
      "                                                                               \r"
     ]
    },
    {
     "name": "stdout",
     "output_type": "stream",
     "text": [
      "Epoch 10/10: Train Loss: 1.4271, Val Loss: 1.6225\n"
     ]
    },
    {
     "name": "stderr",
     "output_type": "stream",
     "text": [
      "                                                      "
     ]
    },
    {
     "name": "stdout",
     "output_type": "stream",
     "text": [
      "Test Accuracy: 31.28%\n"
     ]
    },
    {
     "name": "stderr",
     "output_type": "stream",
     "text": [
      "\r"
     ]
    },
    {
     "data": {
      "image/png": "[encoded data removed]",
      "text/plain": [
       "<Figure size 640x480 with 1 Axes>"
      ]
     },
     "metadata": {},
     "output_type": "display_data"
    }
   ],
   "source": [
    "# Same as above, but without dropout\n",
    "\n",
    "# Define criterion and optimizer\n",
    "model = SimpleCNN2(num_classes=len(train_loader.dataset.dataset.classes)).to(device)\n",
    "criterion = nn.CrossEntropyLoss()\n",
    "optimizer = torch.optim.Adam(model.parameters(), lr=0.001, weight_decay=1e-5)\n",
    "\n",
    "# Training loop\n",
    "epochs = 10\n",
    "train_losses, val_losses = train_validate_cnn(model, train_loader, val_loader, criterion, optimizer, epochs, device)\n",
    "\n",
    "# Test the model\n",
    "test_accuracy = test_model(model, test_loader, device)\n",
    "\n",
    "# Plot training and validation loss\n",
    "plt.plot(train_losses, label='Training Loss')\n",
    "plt.plot(val_losses, label='Validation Loss')\n",
    "plt.xlabel('Epoch')\n",
    "plt.ylabel('Loss')\n",
    "plt.legend()\n",
    "plt.show()\n",
    "\n"
   ]
  },
  {
   "cell_type": "markdown",
   "id": "41107ff9",
   "metadata": {},
   "source": [
    "## Part 2 Task I\n",
    "### Inspection of Datasets:\n",
    "\n",
    "- Stanford Dogs Dataset: Typically features higher-resolution images, varied backgrounds, and dogs in natural settings. Images may have more challenging backgrounds and diverse poses.\n",
    "- Dog Breed Images Dataset: May contain more standardized images, often with simpler backgrounds or studio-like settings. The annotation style and cropping may differ.\n",
    "\n",
    "Briefly document any consistent differences you notice, as these can impact model training and generalization."
   ]
  },
  {
   "cell_type": "markdown",
   "id": "6d62b136",
   "metadata": {},
   "source": [
    "## Task 3: ResNet training\n",
    "a) In this task, we use the ResNet-18 model for the classification of the images in the DBI dataset. To do so, use the ResNet-18 model from PyTorch, modify the input/output layers to match your dataset, and train the model from scratch; i.e., do not use the pre- trained ResNet. Plot the training and validationaccuracy and report the final test results, and compare those with the results of your CNN model.\n",
    "\n",
    "b) Run the trained model on the entire SDD dataset and report the accuracy. Compare the accuracy obtained on the (test set of) DBI, vs. the accuracy obtained on the SDD. Which is higher? Why do you think that might be? Explain very briefly, in one or two sentences."
   ]
  },
  {
   "cell_type": "code",
   "execution_count": 14,
   "id": "0a8d6c10",
   "metadata": {},
   "outputs": [
    {
     "name": "stderr",
     "output_type": "stream",
     "text": [
      "c:\\Users\\Jagri\\miniconda3\\envs\\compvision\\lib\\site-packages\\torchvision\\models\\_utils.py:208: UserWarning: The parameter 'pretrained' is deprecated since 0.13 and may be removed in the future, please use 'weights' instead.\n",
      "  warnings.warn(\n",
      "c:\\Users\\Jagri\\miniconda3\\envs\\compvision\\lib\\site-packages\\torchvision\\models\\_utils.py:223: UserWarning: Arguments other than a weight enum or `None` for 'weights' are deprecated since 0.13 and may be removed in the future. The current behavior is equivalent to passing `weights=None`.\n",
      "  warnings.warn(msg)\n",
      "                                                                              \r"
     ]
    },
    {
     "name": "stdout",
     "output_type": "stream",
     "text": [
      "Epoch 1/10: Train Loss: 2.2183, Val Loss: 2.6339\n"
     ]
    },
    {
     "name": "stderr",
     "output_type": "stream",
     "text": [
      "                                                                              \r"
     ]
    },
    {
     "name": "stdout",
     "output_type": "stream",
     "text": [
      "Epoch 2/10: Train Loss: 1.7793, Val Loss: 2.1607\n"
     ]
    },
    {
     "name": "stderr",
     "output_type": "stream",
     "text": [
      "                                                                              \r"
     ]
    },
    {
     "name": "stdout",
     "output_type": "stream",
     "text": [
      "Epoch 3/10: Train Loss: 1.6241, Val Loss: 1.9217\n"
     ]
    },
    {
     "name": "stderr",
     "output_type": "stream",
     "text": [
      "                                                                              \r"
     ]
    },
    {
     "name": "stdout",
     "output_type": "stream",
     "text": [
      "Epoch 4/10: Train Loss: 1.4967, Val Loss: 2.1280\n"
     ]
    },
    {
     "name": "stderr",
     "output_type": "stream",
     "text": [
      "                                                                              \r"
     ]
    },
    {
     "name": "stdout",
     "output_type": "stream",
     "text": [
      "Epoch 5/10: Train Loss: 1.4675, Val Loss: 2.1179\n"
     ]
    },
    {
     "name": "stderr",
     "output_type": "stream",
     "text": [
      "                                                                              \r"
     ]
    },
    {
     "name": "stdout",
     "output_type": "stream",
     "text": [
      "Epoch 6/10: Train Loss: 1.4334, Val Loss: 3.2314\n"
     ]
    },
    {
     "name": "stderr",
     "output_type": "stream",
     "text": [
      "                                                                              \r"
     ]
    },
    {
     "name": "stdout",
     "output_type": "stream",
     "text": [
      "Epoch 7/10: Train Loss: 1.3584, Val Loss: 1.4856\n"
     ]
    },
    {
     "name": "stderr",
     "output_type": "stream",
     "text": [
      "                                                                              \r"
     ]
    },
    {
     "name": "stdout",
     "output_type": "stream",
     "text": [
      "Epoch 8/10: Train Loss: 1.2727, Val Loss: 4.2022\n"
     ]
    },
    {
     "name": "stderr",
     "output_type": "stream",
     "text": [
      "                                                                               \r"
     ]
    },
    {
     "name": "stdout",
     "output_type": "stream",
     "text": [
      "Epoch 9/10: Train Loss: 1.1934, Val Loss: 2.7157\n"
     ]
    },
    {
     "name": "stderr",
     "output_type": "stream",
     "text": [
      "                                                                               \r"
     ]
    },
    {
     "name": "stdout",
     "output_type": "stream",
     "text": [
      "Epoch 10/10: Train Loss: 1.1276, Val Loss: 1.5077\n"
     ]
    },
    {
     "name": "stderr",
     "output_type": "stream",
     "text": [
      "                                                      "
     ]
    },
    {
     "name": "stdout",
     "output_type": "stream",
     "text": [
      "Test Accuracy: 42.56%\n"
     ]
    },
    {
     "name": "stderr",
     "output_type": "stream",
     "text": [
      "\r"
     ]
    },
    {
     "data": {
      "image/png": "[encoded data removed]",
      "text/plain": [
       "<Figure size 640x480 with 1 Axes>"
      ]
     },
     "metadata": {},
     "output_type": "display_data"
    }
   ],
   "source": [
    "import torchvision.models as models\n",
    "\n",
    "# Load an untrained ResNet-18 model\n",
    "resnet18_untrained = models.resnet18(pretrained=False)\n",
    "\n",
    "# modify the final layer to match the number of classes in your dataset\n",
    "num_ftrs = resnet18_untrained.fc.in_features\n",
    "resnet18_untrained.fc = nn.Linear(num_ftrs, len(train_loader.dataset.dataset.classes))\n",
    "\n",
    "resnet_model = resnet18_untrained.to(device)\n",
    "criterion = nn.CrossEntropyLoss()\n",
    "optimizer = torch.optim.Adam(resnet_model.parameters(), lr=0.001, weight_decay=1e-5)\n",
    "epochs = 10\n",
    "train_losses, val_losses = train_validate_cnn(resnet_model, train_loader, val_loader, criterion, optimizer, epochs, device)\n",
    "test_accuracy = test_model(resnet_model, test_loader, device)\n",
    "\n",
    "# Plot training and validation loss\n",
    "plt.plot(train_losses, label='Training Loss')\n",
    "plt.plot(val_losses, label='Validation Loss')\n",
    "plt.xlabel('Epoch')\n",
    "plt.ylabel('Loss')\n",
    "plt.legend()\n",
    "plt.show()"
   ]
  },
  {
   "cell_type": "code",
   "execution_count": 15,
   "id": "a33f06e4",
   "metadata": {},
   "outputs": [
    {
     "name": "stderr",
     "output_type": "stream",
     "text": [
      "                                                        "
     ]
    },
    {
     "name": "stdout",
     "output_type": "stream",
     "text": [
      "Test Accuracy: 30.17%\n"
     ]
    },
    {
     "name": "stderr",
     "output_type": "stream",
     "text": [
      "\r"
     ]
    }
   ],
   "source": [
    "# Run the trained ResNet model on the entirety of the Stanford Dog Dataset (SDD)\n",
    "\n",
    "sdd_path = \"stanford-dogs-dataset/images/\"\n",
    "sdd_dataset = datasets.ImageFolder(sdd_path, transform=base_transform)\n",
    "sdd_loader = DataLoader(sdd_dataset, batch_size=32, shuffle=False, drop_last=False, **common_loader_kwargs)\n",
    "\n",
    "test_accuracy = test_model(resnet_model, sdd_loader, device)"
   ]
  },
  {
   "cell_type": "markdown",
   "id": "f0c64b6e",
   "metadata": {},
   "source": [
    "# TODO: \n",
    "Compare the accuracy obtained on the (test set of) DBI, vs. the accuracy obtained on the SDD. Which is higher? Why do you think that might be? Explain very briefly, in one or two sentences."
   ]
  },
  {
   "cell_type": "markdown",
   "id": "b3718df9",
   "metadata": {},
   "source": [
    "# TODO: Task 4: Fine-Tuning on DBI\n",
    "\n",
    "Fine tune a number of different pre-trained models on the DBI."
   ]
  },
  {
   "cell_type": "code",
   "execution_count": 18,
   "id": "692cfa62",
   "metadata": {},
   "outputs": [
    {
     "name": "stderr",
     "output_type": "stream",
     "text": [
      "c:\\Users\\Jagri\\miniconda3\\envs\\compvision\\lib\\site-packages\\torchvision\\models\\_utils.py:208: UserWarning: The parameter 'pretrained' is deprecated since 0.13 and may be removed in the future, please use 'weights' instead.\n",
      "  warnings.warn(\n",
      "c:\\Users\\Jagri\\miniconda3\\envs\\compvision\\lib\\site-packages\\torchvision\\models\\_utils.py:223: UserWarning: Arguments other than a weight enum or `None` for 'weights' are deprecated since 0.13 and may be removed in the future. The current behavior is equivalent to passing `weights=ResNet18_Weights.IMAGENET1K_V1`. You can also use `weights=ResNet18_Weights.DEFAULT` to get the most up-to-date weights.\n",
      "  warnings.warn(msg)\n",
      "c:\\Users\\Jagri\\miniconda3\\envs\\compvision\\lib\\site-packages\\torchvision\\models\\_utils.py:223: UserWarning: Arguments other than a weight enum or `None` for 'weights' are deprecated since 0.13 and may be removed in the future. The current behavior is equivalent to passing `weights=ResNet34_Weights.IMAGENET1K_V1`. You can also use `weights=ResNet34_Weights.DEFAULT` to get the most up-to-date weights.\n",
      "  warnings.warn(msg)\n",
      "c:\\Users\\Jagri\\miniconda3\\envs\\compvision\\lib\\site-packages\\torchvision\\models\\_utils.py:223: UserWarning: Arguments other than a weight enum or `None` for 'weights' are deprecated since 0.13 and may be removed in the future. The current behavior is equivalent to passing `weights=ResNeXt50_32X4D_Weights.IMAGENET1K_V1`. You can also use `weights=ResNeXt50_32X4D_Weights.DEFAULT` to get the most up-to-date weights.\n",
      "  warnings.warn(msg)\n",
      "c:\\Users\\Jagri\\miniconda3\\envs\\compvision\\lib\\site-packages\\torchvision\\models\\_utils.py:223: UserWarning: Arguments other than a weight enum or `None` for 'weights' are deprecated since 0.13 and may be removed in the future. The current behavior is equivalent to passing `weights=Swin_T_Weights.IMAGENET1K_V1`. You can also use `weights=Swin_T_Weights.DEFAULT` to get the most up-to-date weights.\n",
      "  warnings.warn(msg)\n",
      "c:\\Users\\Jagri\\miniconda3\\envs\\compvision\\lib\\site-packages\\torchvision\\models\\_utils.py:223: UserWarning: Arguments other than a weight enum or `None` for 'weights' are deprecated since 0.13 and may be removed in the future. The current behavior is equivalent to passing `weights=ViT_B_32_Weights.IMAGENET1K_V1`. You can also use `weights=ViT_B_32_Weights.DEFAULT` to get the most up-to-date weights.\n",
      "  warnings.warn(msg)\n",
      "Downloading: \"https://download.pytorch.org/models/vit_b_32-d86f8d99.pth\" to C:\\Users\\Jagri/.cache\\torch\\hub\\checkpoints\\vit_b_32-d86f8d99.pth\n",
      "100%|██████████| 337M/337M [00:10<00:00, 32.2MB/s] \n"
     ]
    },
    {
     "name": "stdout",
     "output_type": "stream",
     "text": [
      "\n",
      "Training ResNet18...\n"
     ]
    },
    {
     "name": "stderr",
     "output_type": "stream",
     "text": [
      "                                                                               \r"
     ]
    },
    {
     "name": "stdout",
     "output_type": "stream",
     "text": [
      "Epoch 1/10: Train Loss: 0.8365, Val Loss: 5.0081\n"
     ]
    },
    {
     "name": "stderr",
     "output_type": "stream",
     "text": [
      "                                                                               \r"
     ]
    },
    {
     "name": "stdout",
     "output_type": "stream",
     "text": [
      "Epoch 2/10: Train Loss: 0.5346, Val Loss: 9.1399\n"
     ]
    },
    {
     "name": "stderr",
     "output_type": "stream",
     "text": [
      "                                                                               \r"
     ]
    },
    {
     "name": "stdout",
     "output_type": "stream",
     "text": [
      "Epoch 3/10: Train Loss: 0.4246, Val Loss: 2.3452\n"
     ]
    },
    {
     "name": "stderr",
     "output_type": "stream",
     "text": [
      "                                                                               \r"
     ]
    },
    {
     "name": "stdout",
     "output_type": "stream",
     "text": [
      "Epoch 4/10: Train Loss: 0.2944, Val Loss: 1.0406\n"
     ]
    },
    {
     "name": "stderr",
     "output_type": "stream",
     "text": [
      "                                                                                \r"
     ]
    },
    {
     "name": "stdout",
     "output_type": "stream",
     "text": [
      "Epoch 5/10: Train Loss: 0.1828, Val Loss: 0.7399\n"
     ]
    },
    {
     "name": "stderr",
     "output_type": "stream",
     "text": [
      "                                                                               \r"
     ]
    },
    {
     "name": "stdout",
     "output_type": "stream",
     "text": [
      "Epoch 6/10: Train Loss: 0.2215, Val Loss: 1.3372\n"
     ]
    },
    {
     "name": "stderr",
     "output_type": "stream",
     "text": [
      "                                                                                \r"
     ]
    },
    {
     "name": "stdout",
     "output_type": "stream",
     "text": [
      "Epoch 7/10: Train Loss: 0.1470, Val Loss: 1.4949\n"
     ]
    },
    {
     "name": "stderr",
     "output_type": "stream",
     "text": [
      "                                                                               \r"
     ]
    },
    {
     "name": "stdout",
     "output_type": "stream",
     "text": [
      "Epoch 8/10: Train Loss: 0.1479, Val Loss: 2.0347\n"
     ]
    },
    {
     "name": "stderr",
     "output_type": "stream",
     "text": [
      "                                                                                \r"
     ]
    },
    {
     "name": "stdout",
     "output_type": "stream",
     "text": [
      "Epoch 9/10: Train Loss: 0.0838, Val Loss: 0.8806\n"
     ]
    },
    {
     "name": "stderr",
     "output_type": "stream",
     "text": [
      "                                                                                 \r"
     ]
    },
    {
     "name": "stdout",
     "output_type": "stream",
     "text": [
      "Epoch 10/10: Train Loss: 0.1325, Val Loss: 1.3663\n"
     ]
    },
    {
     "name": "stderr",
     "output_type": "stream",
     "text": [
      "                                                      \r"
     ]
    },
    {
     "name": "stdout",
     "output_type": "stream",
     "text": [
      "Test Accuracy: 67.18%\n"
     ]
    },
    {
     "name": "stderr",
     "output_type": "stream",
     "text": [
      "                                                        \r"
     ]
    },
    {
     "name": "stdout",
     "output_type": "stream",
     "text": [
      "Test Accuracy: 48.01%\n",
      "\n",
      "Training ResNet34...\n"
     ]
    },
    {
     "name": "stderr",
     "output_type": "stream",
     "text": [
      "                                                                               \r"
     ]
    },
    {
     "name": "stdout",
     "output_type": "stream",
     "text": [
      "Epoch 1/10: Train Loss: 1.0952, Val Loss: 16.8818\n"
     ]
    },
    {
     "name": "stderr",
     "output_type": "stream",
     "text": [
      "                                                                               \r"
     ]
    },
    {
     "name": "stdout",
     "output_type": "stream",
     "text": [
      "Epoch 2/10: Train Loss: 0.6092, Val Loss: 2.2770\n"
     ]
    },
    {
     "name": "stderr",
     "output_type": "stream",
     "text": [
      "                                                                               \r"
     ]
    },
    {
     "name": "stdout",
     "output_type": "stream",
     "text": [
      "Epoch 3/10: Train Loss: 0.4939, Val Loss: 1.5414\n"
     ]
    },
    {
     "name": "stderr",
     "output_type": "stream",
     "text": [
      "                                                                               \r"
     ]
    },
    {
     "name": "stdout",
     "output_type": "stream",
     "text": [
      "Epoch 4/10: Train Loss: 0.3726, Val Loss: 2.4814\n"
     ]
    },
    {
     "name": "stderr",
     "output_type": "stream",
     "text": [
      "                                                                               \r"
     ]
    },
    {
     "name": "stdout",
     "output_type": "stream",
     "text": [
      "Epoch 5/10: Train Loss: 0.2785, Val Loss: 2.2109\n"
     ]
    },
    {
     "name": "stderr",
     "output_type": "stream",
     "text": [
      "                                                                               \r"
     ]
    },
    {
     "name": "stdout",
     "output_type": "stream",
     "text": [
      "Epoch 6/10: Train Loss: 0.3067, Val Loss: 1.0023\n"
     ]
    },
    {
     "name": "stderr",
     "output_type": "stream",
     "text": [
      "                                                                               \r"
     ]
    },
    {
     "name": "stdout",
     "output_type": "stream",
     "text": [
      "Epoch 7/10: Train Loss: 0.2926, Val Loss: 2.0673\n"
     ]
    },
    {
     "name": "stderr",
     "output_type": "stream",
     "text": [
      "                                                                               \r"
     ]
    },
    {
     "name": "stdout",
     "output_type": "stream",
     "text": [
      "Epoch 8/10: Train Loss: 0.3511, Val Loss: 1.2831\n"
     ]
    },
    {
     "name": "stderr",
     "output_type": "stream",
     "text": [
      "                                                                               \r"
     ]
    },
    {
     "name": "stdout",
     "output_type": "stream",
     "text": [
      "Epoch 9/10: Train Loss: 0.4107, Val Loss: 0.9127\n"
     ]
    },
    {
     "name": "stderr",
     "output_type": "stream",
     "text": [
      "                                                                                \r"
     ]
    },
    {
     "name": "stdout",
     "output_type": "stream",
     "text": [
      "Epoch 10/10: Train Loss: 0.2759, Val Loss: 0.8741\n"
     ]
    },
    {
     "name": "stderr",
     "output_type": "stream",
     "text": [
      "                                                      \r"
     ]
    },
    {
     "name": "stdout",
     "output_type": "stream",
     "text": [
      "Test Accuracy: 81.03%\n"
     ]
    },
    {
     "name": "stderr",
     "output_type": "stream",
     "text": [
      "                                                        \r"
     ]
    },
    {
     "name": "stdout",
     "output_type": "stream",
     "text": [
      "Test Accuracy: 62.94%\n",
      "\n",
      "Training ResNeXt50...\n"
     ]
    },
    {
     "name": "stderr",
     "output_type": "stream",
     "text": [
      "                                                                              \r"
     ]
    },
    {
     "name": "stdout",
     "output_type": "stream",
     "text": [
      "Epoch 1/10: Train Loss: 0.9299, Val Loss: 8.3476\n"
     ]
    },
    {
     "name": "stderr",
     "output_type": "stream",
     "text": [
      "                                                                               \r"
     ]
    },
    {
     "name": "stdout",
     "output_type": "stream",
     "text": [
      "Epoch 2/10: Train Loss: 0.7213, Val Loss: 1.9889\n"
     ]
    },
    {
     "name": "stderr",
     "output_type": "stream",
     "text": [
      "                                                                               \r"
     ]
    },
    {
     "name": "stdout",
     "output_type": "stream",
     "text": [
      "Epoch 3/10: Train Loss: 0.4831, Val Loss: 2.0423\n"
     ]
    },
    {
     "name": "stderr",
     "output_type": "stream",
     "text": [
      "                                                                               \r"
     ]
    },
    {
     "name": "stdout",
     "output_type": "stream",
     "text": [
      "Epoch 4/10: Train Loss: 0.3497, Val Loss: 1.4120\n"
     ]
    },
    {
     "name": "stderr",
     "output_type": "stream",
     "text": [
      "                                                                               \r"
     ]
    },
    {
     "name": "stdout",
     "output_type": "stream",
     "text": [
      "Epoch 5/10: Train Loss: 0.3303, Val Loss: 0.8725\n"
     ]
    },
    {
     "name": "stderr",
     "output_type": "stream",
     "text": [
      "                                                                               \r"
     ]
    },
    {
     "name": "stdout",
     "output_type": "stream",
     "text": [
      "Epoch 6/10: Train Loss: 0.1944, Val Loss: 0.9642\n"
     ]
    },
    {
     "name": "stderr",
     "output_type": "stream",
     "text": [
      "                                                                                \r"
     ]
    },
    {
     "name": "stdout",
     "output_type": "stream",
     "text": [
      "Epoch 7/10: Train Loss: 0.1618, Val Loss: 0.5942\n"
     ]
    },
    {
     "name": "stderr",
     "output_type": "stream",
     "text": [
      "                                                                               \r"
     ]
    },
    {
     "name": "stdout",
     "output_type": "stream",
     "text": [
      "Epoch 8/10: Train Loss: 0.2236, Val Loss: 0.5655\n"
     ]
    },
    {
     "name": "stderr",
     "output_type": "stream",
     "text": [
      "                                                                               \r"
     ]
    },
    {
     "name": "stdout",
     "output_type": "stream",
     "text": [
      "Epoch 9/10: Train Loss: 0.2064, Val Loss: 3.0855\n"
     ]
    },
    {
     "name": "stderr",
     "output_type": "stream",
     "text": [
      "                                                                                 \r"
     ]
    },
    {
     "name": "stdout",
     "output_type": "stream",
     "text": [
      "Epoch 10/10: Train Loss: 0.1986, Val Loss: 1.1218\n"
     ]
    },
    {
     "name": "stderr",
     "output_type": "stream",
     "text": [
      "                                                      \r"
     ]
    },
    {
     "name": "stdout",
     "output_type": "stream",
     "text": [
      "Test Accuracy: 71.28%\n"
     ]
    },
    {
     "name": "stderr",
     "output_type": "stream",
     "text": [
      "                                                        \r"
     ]
    },
    {
     "name": "stdout",
     "output_type": "stream",
     "text": [
      "Test Accuracy: 55.47%\n",
      "\n",
      "Training SwinTransformerTiny...\n"
     ]
    },
    {
     "name": "stderr",
     "output_type": "stream",
     "text": [
      "                                                                              \r"
     ]
    },
    {
     "name": "stdout",
     "output_type": "stream",
     "text": [
      "Epoch 1/10: Train Loss: 2.1837, Val Loss: 2.0507\n"
     ]
    },
    {
     "name": "stderr",
     "output_type": "stream",
     "text": [
      "                                                                              \r"
     ]
    },
    {
     "name": "stdout",
     "output_type": "stream",
     "text": [
      "Epoch 2/10: Train Loss: 2.0278, Val Loss: 1.9250\n"
     ]
    },
    {
     "name": "stderr",
     "output_type": "stream",
     "text": [
      "                                                                              \r"
     ]
    },
    {
     "name": "stdout",
     "output_type": "stream",
     "text": [
      "Epoch 3/10: Train Loss: 2.0401, Val Loss: 2.0000\n"
     ]
    },
    {
     "name": "stderr",
     "output_type": "stream",
     "text": [
      "                                                                              \r"
     ]
    },
    {
     "name": "stdout",
     "output_type": "stream",
     "text": [
      "Epoch 4/10: Train Loss: 1.9909, Val Loss: 1.9490\n"
     ]
    },
    {
     "name": "stderr",
     "output_type": "stream",
     "text": [
      "                                                                              \r"
     ]
    },
    {
     "name": "stdout",
     "output_type": "stream",
     "text": [
      "Epoch 5/10: Train Loss: 2.0313, Val Loss: 1.9450\n"
     ]
    },
    {
     "name": "stderr",
     "output_type": "stream",
     "text": [
      "                                                                              \r"
     ]
    },
    {
     "name": "stdout",
     "output_type": "stream",
     "text": [
      "Epoch 6/10: Train Loss: 2.0045, Val Loss: 1.9637\n"
     ]
    },
    {
     "name": "stderr",
     "output_type": "stream",
     "text": [
      "                                                                              \r"
     ]
    },
    {
     "name": "stdout",
     "output_type": "stream",
     "text": [
      "Epoch 7/10: Train Loss: 1.9828, Val Loss: 1.9666\n"
     ]
    },
    {
     "name": "stderr",
     "output_type": "stream",
     "text": [
      "                                                                              \r"
     ]
    },
    {
     "name": "stdout",
     "output_type": "stream",
     "text": [
      "Epoch 8/10: Train Loss: 1.9775, Val Loss: 1.9478\n"
     ]
    },
    {
     "name": "stderr",
     "output_type": "stream",
     "text": [
      "                                                                              \r"
     ]
    },
    {
     "name": "stdout",
     "output_type": "stream",
     "text": [
      "Epoch 9/10: Train Loss: 1.9894, Val Loss: 1.9968\n"
     ]
    },
    {
     "name": "stderr",
     "output_type": "stream",
     "text": [
      "                                                                               \r"
     ]
    },
    {
     "name": "stdout",
     "output_type": "stream",
     "text": [
      "Epoch 10/10: Train Loss: 1.9848, Val Loss: 1.9504\n"
     ]
    },
    {
     "name": "stderr",
     "output_type": "stream",
     "text": [
      "                                                      \r"
     ]
    },
    {
     "name": "stdout",
     "output_type": "stream",
     "text": [
      "Test Accuracy: 15.38%\n"
     ]
    },
    {
     "name": "stderr",
     "output_type": "stream",
     "text": [
      "                                                        \r"
     ]
    },
    {
     "name": "stdout",
     "output_type": "stream",
     "text": [
      "Test Accuracy: 17.68%\n",
      "\n",
      "Training ViT...\n"
     ]
    },
    {
     "name": "stderr",
     "output_type": "stream",
     "text": [
      "                                                                              \r"
     ]
    },
    {
     "name": "stdout",
     "output_type": "stream",
     "text": [
      "Epoch 1/10: Train Loss: 2.5752, Val Loss: 2.0964\n"
     ]
    },
    {
     "name": "stderr",
     "output_type": "stream",
     "text": [
      "                                                                              \r"
     ]
    },
    {
     "name": "stdout",
     "output_type": "stream",
     "text": [
      "Epoch 2/10: Train Loss: 2.0116, Val Loss: 1.9559\n"
     ]
    },
    {
     "name": "stderr",
     "output_type": "stream",
     "text": [
      "                                                                              \r"
     ]
    },
    {
     "name": "stdout",
     "output_type": "stream",
     "text": [
      "Epoch 3/10: Train Loss: 2.0139, Val Loss: 1.9789\n"
     ]
    },
    {
     "name": "stderr",
     "output_type": "stream",
     "text": [
      "                                                                              \r"
     ]
    },
    {
     "name": "stdout",
     "output_type": "stream",
     "text": [
      "Epoch 4/10: Train Loss: 1.9759, Val Loss: 1.9064\n"
     ]
    },
    {
     "name": "stderr",
     "output_type": "stream",
     "text": [
      "                                                                              \r"
     ]
    },
    {
     "name": "stdout",
     "output_type": "stream",
     "text": [
      "Epoch 5/10: Train Loss: 1.9608, Val Loss: 1.9732\n"
     ]
    },
    {
     "name": "stderr",
     "output_type": "stream",
     "text": [
      "                                                                              \r"
     ]
    },
    {
     "name": "stdout",
     "output_type": "stream",
     "text": [
      "Epoch 6/10: Train Loss: 1.9585, Val Loss: 1.9448\n"
     ]
    },
    {
     "name": "stderr",
     "output_type": "stream",
     "text": [
      "                                                                              \r"
     ]
    },
    {
     "name": "stdout",
     "output_type": "stream",
     "text": [
      "Epoch 7/10: Train Loss: 1.9606, Val Loss: 1.9041\n"
     ]
    },
    {
     "name": "stderr",
     "output_type": "stream",
     "text": [
      "                                                                              \r"
     ]
    },
    {
     "name": "stdout",
     "output_type": "stream",
     "text": [
      "Epoch 8/10: Train Loss: 1.9657, Val Loss: 1.8617\n"
     ]
    },
    {
     "name": "stderr",
     "output_type": "stream",
     "text": [
      "                                                                              \r"
     ]
    },
    {
     "name": "stdout",
     "output_type": "stream",
     "text": [
      "Epoch 9/10: Train Loss: 1.9350, Val Loss: 1.9256\n"
     ]
    },
    {
     "name": "stderr",
     "output_type": "stream",
     "text": [
      "                                                                               \r"
     ]
    },
    {
     "name": "stdout",
     "output_type": "stream",
     "text": [
      "Epoch 10/10: Train Loss: 1.9291, Val Loss: 1.8824\n"
     ]
    },
    {
     "name": "stderr",
     "output_type": "stream",
     "text": [
      "                                                      \r"
     ]
    },
    {
     "name": "stdout",
     "output_type": "stream",
     "text": [
      "Test Accuracy: 15.90%\n"
     ]
    },
    {
     "name": "stderr",
     "output_type": "stream",
     "text": [
      "                                                        "
     ]
    },
    {
     "name": "stdout",
     "output_type": "stream",
     "text": [
      "Test Accuracy: 19.63%\n",
      "\n",
      "Summary of Accuracies:\n",
      "ResNet18: DBI=67.18%, SDD=48.01%\n",
      "ResNet34: DBI=81.03%, SDD=62.94%\n",
      "ResNeXt50: DBI=71.28%, SDD=55.47%\n",
      "SwinTransformerTiny: DBI=15.38%, SDD=17.68%\n",
      "ViT: DBI=15.90%, SDD=19.63%\n"
     ]
    },
    {
     "name": "stderr",
     "output_type": "stream",
     "text": [
      "\r"
     ]
    }
   ],
   "source": [
    "# load pretrained models\n",
    "from torchvision import models \n",
    "\n",
    "resnet18 = models.resnet18(pretrained=True) # resnet18\n",
    "resnet34 = models.resnet34(pretrained=True) #resnet34\n",
    "resnext50 = models.resnext50_32x4d(pretrained=True) #resneXt 50\n",
    "swintrans = models.swin_t(pretrained=True) #swinTransformer tiny\n",
    "\n",
    "#fifth model of my choosing: vgg16 \n",
    "vit = models.vit_b_32(pretrained=True)\n",
    "\n",
    "# replace final layer for output classes\n",
    "\n",
    "# modify the final layer to match the number of classes in your dataset\n",
    "\n",
    "# ResNet18\n",
    "num_ftrs = resnet18_untrained.fc.in_features\n",
    "resnet18.fc = nn.Linear(num_ftrs, len(train_loader.dataset.dataset.classes))\n",
    "\n",
    "# ResNet34\n",
    "num_ftrs_34 = resnet34.fc.in_features\n",
    "resnet34.fc = nn.Linear(num_ftrs_34, len(train_loader.dataset.dataset.classes))\n",
    "\n",
    "# ResNeXt50\n",
    "num_ftrs_next = resnext50.fc.in_features\n",
    "resnext50.fc = nn.Linear(num_ftrs_next, len(train_loader.dataset.dataset.classes))\n",
    "\n",
    "# Swin Transformer Tiny\n",
    "num_ftrs_swin = swintrans.head.in_features\n",
    "swintrans.head = nn.Linear(num_ftrs_swin, len(train_loader.dataset.dataset.classes))\n",
    "\n",
    "# ViT 32\n",
    "num_ftrs_vit = vit.heads.head.in_features\n",
    "vit.heads.head = nn.Linear(num_ftrs_vit, len(train_loader.dataset.dataset.classes))\n",
    "\n",
    "models_to_train = [\n",
    "    (\"ResNet18\", resnet18),\n",
    "    (\"ResNet34\", resnet34),\n",
    "    (\"ResNeXt50\", resnext50),\n",
    "    (\"SwinTransformerTiny\", swintrans),\n",
    "    (\"ViT\", vit)\n",
    "]\n",
    "\n",
    "results = {}\n",
    "\n",
    "\n",
    "for name, model in models_to_train:\n",
    "    print(f\"\\nTraining {name}...\")\n",
    "    model = model.to(device)\n",
    "    optimizer = torch.optim.Adam(model.parameters(), lr=0.001, weight_decay=1e-5)\n",
    "    criterion = nn.CrossEntropyLoss()\n",
    "    epochs = 10\n",
    "    train_losses, val_losses = train_validate_cnn(model, train_loader, val_loader, criterion, optimizer, epochs, device)\n",
    "\n",
    "    dbi_acc = test_model(model, test_loader, device)\n",
    "    sdd_acc = test_model(model, sdd_loader, device)\n",
    "\n",
    "    results[name] = {\"DBI\": dbi_acc, \"SDD\": sdd_acc}\n",
    "\n",
    "print(\"\\nSummary of Accuracies:\")\n",
    "for name, accs in results.items():\n",
    "    print(f\"{name}: DBI={accs['DBI']:.2f}%, SDD={accs['SDD']:.2f}%\")\n",
    "\n"
   ]
  },
  {
   "cell_type": "markdown",
   "id": "a37b820d",
   "metadata": {},
   "source": [
    "Summary of Accuracies:\n",
    "\n",
    "ResNet18: DBI=67.18%, SDD=48.01%\n",
    "\n",
    "ResNet34: DBI=81.03%, SDD=62.94%\n",
    "\n",
    "ResNeXt50: DBI=71.28%, SDD=55.47%\n",
    "\n",
    "SwinTransformerTiny: DBI=15.38%, SDD=17.68%\n",
    "\n",
    "ViT: DBI=15.90%, SDD=19.63%\n",
    "\n"
   ]
  },
  {
   "cell_type": "markdown",
   "id": "e5b3256d",
   "metadata": {},
   "source": [
    "# TODO: Task 5: Dataset Detection\n",
    "Train a model that will binary classify which dataset an image belongs to."
   ]
  },
  {
   "cell_type": "code",
   "execution_count": null,
   "id": "64554e68",
   "metadata": {},
   "outputs": [],
   "source": []
  },
  {
   "cell_type": "markdown",
   "id": "34f7846f",
   "metadata": {},
   "source": [
    "# TODO: Task 6: How to improve performance on SDD?\n",
    "If our goal were to have good performance on the SDD dataset, briefly discuss how to work towards this goal in each of the following cases: (you don’t need to implement these, just briefly discuss each case in 2-3 sentences)"
   ]
  },
  {
   "cell_type": "markdown",
   "id": "01ee861f",
   "metadata": {},
   "source": [
    "# TODO: Task 7: Discussion\n",
    "\n",
    "Briefly discuss how some of the issues that were examined in this exercise can have implications in real application, e.g. as related to bias or performance. For example, consider the case where available training datasets are collected in one setting (e.g. a university) and the goal is to deploy trained models in another setting (e.g. a retirement home)."
   ]
  },
  {
   "cell_type": "markdown",
   "id": "b398f573",
   "metadata": {},
   "source": [
    "# Task 8: Tracking Comparison\n",
    "Use a face detection model (such as MediaPipe Face Detection, OpenCV’s DNN face detector, or MTCNN) to detect the face in the first frame of the video.\n",
    "\n",
    "Initialize three different face trackers with the detected bounding box:\n",
    "\n",
    "• CSRT Tracker or KCF Tracker (both have OpenCV implementation)\n",
    "\n",
    "• Two other trackers: research and select two additional trackers of your choosing. \n",
    "\n",
    "Try to choose good new models, e.g. by looking up leaderboards. Note that we are looking for tracking models, not face detection models.\n",
    "If you wish, instead of CSRT or KCF you can also use another tracker of your choosing.\n",
    "\n",
    "## Performance Analysis:\n",
    "• Track the face through all frames of the video using each of the three trackers.\n",
    "\n",
    "• For ground truth comparison, run your face detection model on every 5th frame to establish reference bounding boxes. For this assignment, we’re going to assume that the face detection model is perfect and gives us the ground truth location of the face.\n",
    "\n",
    "• Calculate the intersection over union (IoU) between each tracker’s predicted bounding box and the ground truth for these reference frames.\n",
    "\n",
    "• (5 marks) Create a comparison plot showing IoU over time for all three trackers on the same graph, with different colors/line styles for each tracker."
   ]
  },
  {
   "cell_type": "code",
   "execution_count": null,
   "id": "5828d8a5",
   "metadata": {},
   "outputs": [
    {
     "name": "stdout",
     "output_type": "stream",
     "text": [
      "Ground Truth: [[0, (392, 60, 77, 117)], [5, (391, 58, 82, 120)], [10, (392, 57, 82, 117)], [15, (390, 57, 87, 118)], [20, (391, 61, 81, 117)], [25, (392, 68, 88, 122)], [30, (391, 75, 85, 114)], [35, (390, 65, 82, 117)], [40, (386, 67, 79, 115)], [50, (413, 70, 82, 115)], [55, (445, 72, 70, 124)], [60, (445, 94, 78, 108)], [65, (429, 94, 80, 120)], [70, (393, 93, 76, 106)], [75, (357, 71, 81, 116)], [80, (367, 86, 76, 118)], [85, (410, 79, 71, 116)], [205, (2, 114, 104, 101)], [270, (456, 215, 36, 44)], [275, (449, 216, 43, 47)], [280, (447, 203, 46, 46)], [285, (456, 206, 45, 49)]]\n",
      "Tracks: {'CRST': [[0, (392, 60, 77, 117)], [1, (392, 60, 77, 117)], [2, (392, 60, 77, 117)], [3, (392, 59, 77, 117)], [4, (393, 61, 75, 115)], [5, (392, 59, 77, 117)], [6, (392, 59, 77, 117)], [7, (392, 59, 77, 117)], [8, (393, 60, 75, 115)], [9, (392, 58, 77, 117)], [10, (393, 60, 75, 115)], [11, (392, 58, 77, 117)], [12, (392, 58, 77, 117)], [13, (392, 58, 77, 117)], [14, (392, 58, 77, 117)], [15, (392, 59, 77, 117)], [16, (391, 58, 79, 119)], [17, (392, 60, 79, 119)], [18, (391, 59, 80, 122)], [19, (392, 60, 80, 122)], [20, (393, 60, 80, 122)], [21, (394, 62, 79, 119)], [22, (393, 60, 80, 122)], [23, (394, 61, 80, 122)], [24, (394, 62, 80, 122)], [25, (392, 60, 85, 129)], [26, (396, 67, 80, 122)], [27, (394, 65, 82, 124)], [28, (395, 65, 82, 124)], [29, (396, 66, 80, 122)], [30, (396, 66, 79, 119)], [31, (397, 66, 77, 117)], [32, (396, 66, 77, 117)], [33, (395, 65, 77, 117)], [34, (393, 63, 79, 119)], [35, (392, 61, 80, 122)], [36, (391, 62, 79, 119)], [37, (390, 62, 79, 119)], [38, (388, 62, 79, 119)], [39, (386, 63, 79, 119)], [40, (386, 64, 79, 119)], [41, (395, 66, 75, 115)], [42, (393, 66, 75, 115)], [43, (392, 65, 77, 117)], [44, (395, 65, 77, 117)], [45, (396, 65, 79, 119)], [46, (401, 65, 77, 117)], [47, (404, 65, 79, 119)], [48, (403, 66, 79, 119)], [49, (408, 70, 77, 117)], [50, (414, 68, 80, 122)], [51, (423, 72, 79, 119)], [52, (431, 73, 79, 119)], [53, (435, 73, 80, 122)], [54, (438, 73, 80, 122)], [55, (440, 73, 80, 122)], [56, (442, 75, 80, 122)], [57, (443, 78, 80, 122)], [58, (445, 81, 80, 122)], [59, (449, 87, 77, 117)], [60, (449, 90, 75, 115)], [61, (447, 91, 75, 115)], [62, (445, 92, 75, 115)], [63, (438, 91, 79, 119)], [64, (432, 92, 80, 122)], [65, (426, 94, 79, 119)], [66, (418, 95, 79, 119)], [67, (412, 95, 79, 119)], [68, (404, 94, 79, 119)], [69, (396, 91, 79, 119)], [70, (387, 86, 80, 122)], [71, (378, 79, 82, 124)], [72, (369, 71, 83, 127)], [73, (363, 71, 82, 124)], [74, (360, 70, 80, 122)], [75, (359, 70, 80, 122)], [76, (358, 75, 79, 119)], [77, (363, 78, 79, 119)], [78, (362, 81, 80, 122)], [79, (368, 83, 79, 119)], [80, (372, 83, 79, 119)], [81, (378, 84, 77, 117)], [82, (385, 81, 77, 117)], [83, (389, 80, 79, 119)], [84, (396, 77, 80, 122)], [85, (403, 77, 82, 124)], [86, (409, 82, 80, 122)], [87, (412, 83, 82, 124)], [88, (410, 88, 83, 127)], [89, (412, 96, 82, 124)], [90, (415, 103, 80, 122)], [91, (419, 106, 82, 124)], [92, (420, 112, 83, 127)], [93, (423, 120, 85, 129)], [94, (427, 132, 85, 129)], [95, (436, 140, 85, 129)], [96, (446, 148, 85, 129)], [97, (456, 155, 85, 129)], [98, (467, 161, 85, 129)], [99, (477, 160, 85, 129)], [100, (486, 160, 85, 129)], [101, (493, 157, 87, 132)], [102, (505, 156, 87, 132)], [103, (506, 155, 85, 129)], [104, (506, 151, 87, 132)], [105, (505, 150, 87, 132)], [106, (508, 154, 85, 129)], [107, (508, 153, 87, 132)], [108, (514, 151, 85, 129)], [109, (513, 149, 85, 129)], [110, (513, 147, 87, 132)], [111, (509, 146, 87, 132)], [112, (507, 145, 87, 132)], [113, (507, 144, 87, 132)], [114, (507, 144, 87, 132)], [115, (508, 146, 87, 132)], [116, (508, 145, 88, 134)], [117, (513, 144, 88, 134)], [118, (515, 145, 88, 134)], [119, (521, 139, 88, 134)], [120, (515, 136, 90, 137)], [121, (513, 135, 88, 134)], [122, (507, 135, 87, 132)], [123, (502, 130, 85, 129)], [124, (502, 103, 85, 129)], [125, (483, 125, 85, 129)], [126, (477, 119, 85, 129)], [127, (438, 121, 85, 129)], [128, (432, 116, 85, 129)], [129, (430, 112, 85, 129)], [130, (430, 103, 87, 132)], [131, (432, 93, 87, 132)], [132, (440, 92, 85, 129)], [133, (440, 93, 85, 129)], [134, (439, 93, 85, 129)], [135, (440, 91, 85, 129)], [136, (443, 90, 85, 129)], [137, (443, 88, 87, 132)], [138, (439, 86, 87, 132)], [139, (435, 83, 87, 132)], [140, (430, 81, 87, 132)], [141, (421, 78, 88, 134)], [142, (417, 78, 88, 134)], [143, (413, 81, 90, 137)], [144, (409, 84, 94, 143)], [145, (409, 91, 94, 143)], [146, (411, 92, 94, 143)], [147, (411, 92, 96, 145)], [148, (412, 92, 96, 145)], [149, (412, 94, 94, 143)], [150, (408, 92, 96, 145)], [151, (407, 87, 96, 145)], [152, (405, 85, 98, 148)], [153, (402, 81, 102, 154)], [154, (400, 79, 104, 157)], [155, (399, 77, 106, 161)], [156, (399, 79, 104, 157)], [157, (397, 80, 104, 157)], [158, (400, 86, 100, 151)], [159, (403, 88, 98, 148)], [160, (405, 90, 96, 145)], [161, (406, 90, 94, 143)], [162, (407, 88, 92, 140)], [163, (412, 81, 92, 140)], [164, (415, 84, 90, 137)], [165, (417, 85, 90, 137)], [166, (418, 81, 92, 140)], [167, (419, 78, 92, 140)], [168, (427, 72, 92, 140)], [169, (430, 73, 92, 140)], [170, (434, 72, 92, 140)], [171, (457, 91, 92, 140)], [172, (458, 89, 92, 140)], [173, (458, 89, 92, 140)], [174, (460, 91, 92, 140)], [175, (464, 94, 90, 137)], [176, (474, 100, 90, 137)], [177, (481, 101, 90, 137)], [178, (492, 98, 90, 137)], [179, (501, 95, 90, 137)], [180, (508, 93, 90, 137)], [181, (514, 90, 90, 137)], [182, (519, 87, 90, 137)], [183, (526, 84, 90, 137)], [184, (529, 83, 90, 137)], [185, (530, 83, 92, 140)], [186, (532, 88, 90, 137)], [187, (532, 89, 90, 137)], [188, (532, 87, 92, 140)], [189, (534, 86, 92, 140)], [190, (537, 82, 92, 140)], [191, (543, 80, 90, 137)], [192, (551, 82, 88, 134)], [193, (552, 86, 88, 134)], [194, (555, 93, 85, 129)], [195, (556, 95, 83, 127)], [196, (558, 94, 82, 124)], [197, (559, 92, 80, 122)], [198, (561, 88, 79, 119)], [199, (559, 82, 79, 119)], [200, (554, 83, 79, 119)], [201, (547, 85, 79, 119)], [202, (542, 91, 77, 117)], [203, (538, 92, 77, 117)], [204, (535, 93, 77, 117)], [205, (530, 94, 77, 117)], [206, (526, 101, 77, 117)], [207, (519, 103, 77, 117)], [208, (513, 104, 79, 119)], [209, (509, 105, 79, 119)], [210, (507, 104, 79, 119)], [211, (505, 103, 79, 119)], [212, (505, 102, 77, 117)], [213, (506, 97, 77, 117)], [214, (506, 92, 79, 119)], [215, (513, 87, 79, 119)], [216, (511, 84, 79, 119)], [217, (509, 83, 79, 119)], [218, (508, 84, 79, 119)], [219, (509, 84, 80, 122)], [220, (511, 84, 80, 122)], [221, (513, 84, 80, 122)], [222, (513, 84, 80, 122)], [223, (510, 84, 82, 124)], [224, (504, 91, 80, 122)], [225, (489, 95, 80, 122)], [226, (479, 97, 80, 122)], [227, (470, 102, 80, 122)], [228, (465, 104, 80, 122)], [229, (462, 102, 79, 119)], [230, (457, 96, 80, 122)], [231, (452, 93, 82, 124)], [232, (448, 87, 83, 127)], [233, (443, 85, 83, 127)], [234, (440, 82, 85, 129)], [235, (437, 79, 87, 132)], [236, (437, 79, 87, 132)], [237, (434, 83, 87, 132)], [238, (431, 87, 85, 129)], [239, (425, 85, 87, 132)], [240, (424, 85, 85, 129)], [241, (422, 88, 85, 129)], [242, (418, 91, 85, 129)], [243, (416, 95, 83, 127)], [244, (408, 100, 85, 129)], [245, (399, 106, 87, 132)], [246, (388, 111, 88, 134)], [247, (377, 118, 88, 134)], [248, (369, 119, 87, 132)], [249, (355, 117, 88, 134)], [250, (346, 116, 88, 134)], [251, (332, 113, 90, 137)], [252, (324, 106, 94, 143)], [253, (318, 99, 94, 143)], [254, (309, 94, 98, 148)], [255, (307, 90, 98, 148)], [256, (305, 88, 98, 148)], [257, (306, 87, 96, 145)], [258, (307, 89, 92, 140)], [259, (303, 88, 94, 143)], [260, (297, 98, 94, 143)], [261, (290, 104, 94, 143)], [262, (286, 108, 90, 137)], [263, (279, 110, 88, 134)], [264, (271, 110, 87, 132)], [265, (264, 104, 90, 137)], [266, (260, 97, 92, 140)], [267, (261, 100, 87, 132)], [268, (260, 92, 88, 134)], [269, (258, 90, 92, 140)], [270, (257, 87, 96, 145)], [271, (257, 92, 96, 145)], [272, (258, 96, 96, 145)], [273, (258, 99, 96, 145)], [274, (261, 102, 94, 143)], [275, (265, 100, 96, 145)], [276, (267, 99, 96, 145)], [277, (266, 94, 100, 151)], [278, (271, 87, 100, 151)], [279, (273, 80, 102, 154)], [280, (276, 81, 100, 151)], [281, (275, 79, 100, 151)], [282, (273, 78, 102, 154)], [283, (271, 78, 102, 154)], [284, (267, 77, 104, 157)], [285, (261, 78, 104, 157)], [286, (255, 79, 102, 154)], [287, (246, 80, 100, 151)], [288, (215, 70, 102, 154)]], 'GOTURN': [[0, (387, 45, 86, 130)], [1, (386, 42, 91, 137)], [2, (386, 40, 93, 140)], [3, (385, 41, 94, 140)], [4, (385, 40, 94, 140)], [5, (385, 41, 94, 139)], [6, (385, 40, 95, 140)], [7, (385, 41, 95, 139)], [8, (384, 41, 96, 140)], [9, (384, 40, 96, 140)], [10, (385, 41, 96, 139)], [11, (385, 41, 97, 140)], [12, (385, 40, 98, 141)], [13, (384, 39, 98, 141)], [14, (386, 40, 97, 139)], [15, (384, 41, 97, 138)], [16, (385, 40, 97, 138)], [17, (387, 42, 96, 136)], [18, (386, 42, 97, 137)], [19, (385, 41, 98, 138)], [20, (387, 41, 98, 138)], [21, (387, 43, 98, 137)], [22, (387, 43, 98, 137)], [23, (387, 43, 99, 138)], [24, (387, 43, 100, 140)], [25, (387, 41, 102, 143)], [26, (388, 41, 102, 142)], [27, (389, 42, 102, 142)], [28, (389, 43, 102, 141)], [29, (390, 43, 102, 140)], [30, (390, 42, 102, 140)], [31, (390, 42, 102, 139)], [32, (390, 43, 102, 138)], [33, (390, 42, 102, 137)], [34, (390, 44, 101, 135)], [35, (389, 45, 100, 133)], [36, (389, 46, 100, 132)], [37, (389, 47, 100, 132)], [38, (388, 48, 99, 130)], [39, (388, 50, 99, 130)], [40, (387, 50, 99, 129)], [41, (385, 51, 99, 129)], [42, (383, 52, 99, 129)], [43, (382, 51, 100, 130)], [44, (383, 52, 99, 129)], [45, (385, 51, 99, 128)], [46, (388, 51, 98, 126)], [47, (393, 51, 97, 125)], [48, (399, 50, 98, 125)], [49, (402, 50, 101, 128)], [50, (404, 50, 104, 131)], [51, (406, 49, 107, 134)], [52, (408, 46, 111, 138)], [53, (410, 45, 113, 139)], [54, (411, 45, 114, 140)], [55, (412, 44, 115, 140)], [56, (414, 44, 116, 141)], [57, (415, 43, 117, 143)], [58, (416, 45, 118, 145)], [59, (414, 45, 118, 146)], [60, (414, 45, 118, 146)], [61, (414, 45, 117, 145)], [62, (411, 44, 118, 145)], [63, (408, 44, 119, 145)], [64, (404, 45, 120, 146)], [65, (397, 47, 124, 148)], [66, (389, 46, 127, 150)], [67, (381, 45, 130, 152)], [68, (374, 44, 133, 154)], [69, (368, 43, 133, 153)], [70, (362, 41, 131, 150)], [71, (359, 41, 128, 146)], [72, (354, 38, 126, 143)], [73, (350, 41, 122, 139)], [74, (348, 41, 118, 134)], [75, (349, 41, 114, 130)], [76, (351, 46, 110, 125)], [77, (354, 52, 107, 121)], [78, (358, 61, 106, 118)], [79, (360, 65, 104, 114)], [80, (364, 68, 101, 110)], [81, (371, 72, 99, 107)], [82, (369, 73, 104, 110)], [83, (364, 65, 116, 117)], [84, (365, 56, 121, 119)], [85, (369, 48, 121, 118)], [86, (370, 43, 124, 119)], [87, (370, 44, 126, 120)], [88, (373, 46, 127, 119)], [89, (373, 49, 129, 120)], [90, (369, 53, 137, 125)], [91, (365, 58, 147, 132)], [92, (363, 63, 157, 140)], [93, (364, 67, 163, 145)], [94, (358, 78, 167, 146)], [95, (359, 78, 173, 149)], [96, (363, 75, 181, 155)], [97, (368, 77, 186, 157)], [98, (368, 69, 189, 157)], [99, (371, 68, 202, 166)], [100, (376, 78, 220, 181)], [101, (373, 89, 229, 189)], [102, (367, 98, 240, 187)], [103, (359, 109, 252, 180)], [104, (342, 126, 266, 178)], [105, (303, 148, 288, 177)], [106, (263, 179, 292, 171)], [107, (241, 196, 287, 164)], [108, (233, 208, 280, 152)], [109, (229, 217, 278, 143)], [110, (219, 221, 280, 139)], [111, (205, 235, 289, 125)], [112, (188, 235, 301, 125)], [113, (186, 242, 317, 118)], [114, (171, 227, 342, 126)], [115, (177, 214, 339, 132)], [116, (171, 198, 339, 139)], [117, (170, 186, 339, 147)], [118, (163, 172, 344, 158)], [119, (141, 164, 357, 173)], [120, (138, 148, 360, 191)], [121, (119, 138, 367, 202)], [122, (72, 124, 402, 224)], [123, (58, 126, 429, 234)], [124, (91, 135, 431, 225)], [125, (195, 153, 355, 195)], [126, (200, 146, 344, 189)], [127, (193, 134, 342, 189)], [128, (193, 117, 331, 187)], [129, (193, 123, 320, 182)], [130, (190, 115, 306, 178)], [131, (206, 105, 291, 177)], [132, (214, 87, 287, 180)], [133, (191, 79, 295, 192)], [134, (154, 67, 314, 201)], [135, (149, 71, 319, 191)], [136, (155, 63, 325, 191)], [137, (164, 63, 333, 194)], [138, (168, 62, 322, 184)], [139, (185, 51, 323, 184)], [140, (192, 43, 324, 183)], [141, (186, 46, 332, 184)], [142, (192, 51, 329, 184)], [143, (200, 41, 335, 185)], [144, (196, 45, 357, 192)], [145, (233, 59, 362, 191)], [146, (254, 57, 368, 193)], [147, (269, 27, 371, 212)], [148, (289, 27, 351, 202)], [149, (281, 2, 359, 219)], [150, (291, 16, 349, 208)], [151, (298, 14, 342, 209)], [152, (297, 25, 343, 202)], [153, (304, 29, 336, 194)], [154, (311, 23, 329, 193)], [155, (313, 24, 327, 193)], [156, (309, 32, 331, 192)], [157, (310, 34, 330, 189)], [158, (318, 32, 322, 195)], [159, (297, 35, 343, 197)], [160, (312, 43, 328, 192)], [161, (299, 46, 341, 198)], [162, (307, 59, 333, 201)], [163, (271, 60, 369, 216)], [164, (311, 82, 329, 196)], [165, (295, 65, 345, 211)], [166, (315, 68, 325, 206)], [167, (330, 66, 310, 195)], [168, (340, 52, 300, 198)], [169, (326, 48, 314, 204)], [170, (279, 53, 361, 221)], [171, (286, 81, 354, 223)], [172, (181, 66, 459, 270)], [173, (342, 146, 298, 192)], [174, (201, 80, 437, 267)], [175, (303, 155, 337, 194)], [176, (180, 80, 460, 265)], [177, (248, 133, 392, 227)], [178, (176, 92, 464, 268)], [179, (209, 125, 431, 235)], [180, (212, 125, 428, 235)], [181, (226, 124, 414, 236)], [182, (186, 104, 454, 256)], [183, (180, 102, 460, 258)], [184, (198, 117, 442, 243)], [185, (176, 107, 464, 253)], [186, (204, 120, 436, 240)], [187, (184, 121, 428, 239)], [188, (158, 127, 401, 231)], [189, (162, 127, 376, 206)], [190, (85, 98, 445, 245)], [191, (173, 131, 367, 199)], [192, (76, 88, 455, 251)], [193, (174, 120, 373, 204)], [194, (170, 91, 388, 212)], [195, (205, 102, 361, 200)], [196, (202, 101, 366, 203)], [197, (205, 105, 353, 195)], [198, (206, 84, 361, 200)], [199, (214, 86, 342, 190)], [200, (214, 65, 351, 197)], [201, (198, 77, 349, 193)], [202, (180, 76, 363, 201)], [203, (175, 84, 348, 193)], [204, (180, 67, 358, 201)], [205, (177, 81, 344, 190)], [206, (165, 75, 349, 195)], [207, (164, 76, 343, 192)], [208, (156, 70, 359, 201)], [209, (156, 84, 350, 197)], [210, (149, 82, 353, 198)], [211, (146, 84, 354, 198)], [212, (134, 94, 352, 196)], [213, (139, 88, 346, 194)], [214, (141, 82, 348, 195)], [215, (146, 81, 354, 198)], [216, (145, 74, 356, 198)], [217, (147, 65, 365, 203)], [218, (130, 56, 375, 208)], [219, (150, 54, 368, 204)], [220, (129, 42, 411, 229)], [221, (115, 70, 421, 236)], [222, (86, 116, 395, 221)], [223, (104, 162, 334, 182)], [224, (111, 141, 339, 185)], [225, (125, 100, 343, 192)], [226, (137, 86, 326, 184)], [227, (141, 77, 342, 192)], [228, (166, 77, 343, 192)], [229, (145, 61, 345, 193)], [230, (143, 66, 353, 198)], [231, (157, 64, 342, 191)], [232, (160, 60, 349, 195)], [233, (167, 63, 349, 196)], [234, (168, 58, 346, 195)], [235, (175, 63, 350, 194)], [236, (171, 61, 348, 197)], [237, (175, 67, 354, 199)], [238, (178, 83, 334, 189)], [239, (184, 78, 322, 185)], [240, (174, 75, 325, 184)], [241, (168, 68, 324, 185)], [242, (164, 64, 347, 196)], [243, (164, 88, 323, 187)], [244, (169, 85, 327, 187)], [245, (147, 84, 341, 196)], [246, (144, 97, 350, 202)], [247, (166, 116, 331, 192)], [248, (193, 113, 338, 194)], [249, (200, 113, 353, 197)], [250, (237, 119, 350, 191)], [251, (196, 110, 371, 197)], [252, (197, 103, 374, 200)], [253, (157, 105, 382, 204)], [254, (189, 117, 352, 190)], [255, (201, 126, 333, 180)], [256, (203, 132, 323, 175)], [257, (207, 131, 315, 168)], [258, (198, 133, 312, 162)], [259, (207, 141, 300, 153)], [260, (206, 154, 298, 149)], [261, (213, 159, 305, 148)], [262, (222, 158, 315, 148)], [263, (215, 154, 334, 151)], [264, (226, 143, 350, 156)], [265, (181, 122, 415, 188)], [266, (321, 112, 319, 206)], [267, (289, 120, 351, 212)], [268, (332, 139, 308, 193)], [269, (360, 135, 280, 188)], [270, (371, 128, 269, 185)], [271, (378, 113, 262, 188)], [272, (393, 118, 247, 188)], [273, (398, 121, 242, 191)], [274, (368, 129, 272, 204)], [275, (365, 164, 275, 187)], [276, (375, 177, 265, 183)], [277, (361, 185, 279, 175)], [278, (368, 177, 272, 178)], [279, (366, 159, 274, 185)], [280, (370, 152, 270, 184)], [281, (359, 156, 281, 187)], [282, (349, 163, 291, 188)], [283, (341, 168, 299, 190)], [284, (328, 167, 312, 189)], [285, (323, 140, 317, 197)], [286, (299, 137, 341, 198)], [287, (305, 136, 335, 188)], [288, (332, 120, 308, 180)]], 'MOSSE': [[0, (391, 59, 80, 120)], [1, (391, 59, 80, 120)], [2, (391, 59, 80, 120)], [3, (391, 58, 80, 120)], [4, (391, 58, 80, 120)], [5, (391, 58, 80, 120)], [6, (391, 58, 80, 120)], [7, (391, 57, 80, 120)], [8, (391, 57, 80, 120)], [9, (391, 57, 80, 120)], [10, (391, 57, 80, 120)], [11, (391, 57, 80, 120)], [12, (391, 57, 80, 120)], [13, (391, 56, 80, 120)], [14, (391, 57, 80, 120)], [15, (390, 58, 80, 120)], [16, (390, 59, 80, 120)], [17, (390, 61, 80, 120)], [18, (390, 62, 80, 120)], [19, (391, 62, 80, 120)], [20, (392, 62, 80, 120)], [21, (392, 63, 80, 120)], [22, (393, 64, 80, 120)], [23, (393, 65, 80, 120)], [24, (394, 66, 80, 120)], [25, (394, 68, 80, 120)], [26, (394, 69, 80, 120)], [27, (395, 70, 80, 120)], [28, (395, 69, 80, 120)], [29, (395, 69, 80, 120)], [30, (394, 68, 80, 120)], [31, (394, 67, 80, 120)], [32, (393, 67, 80, 120)], [33, (391, 66, 80, 120)], [34, (389, 66, 80, 120)], [35, (386, 64, 80, 120)], [36, (383, 63, 80, 120)], [37, (381, 63, 80, 120)], [38, (378, 63, 80, 120)], [39, (375, 64, 80, 120)], [40, (371, 65, 80, 120)], [41, (367, 67, 80, 120)], [42, (363, 69, 80, 120)], [43, (362, 69, 80, 120)], [44, (363, 69, 80, 120)], [45, (366, 69, 80, 120)], [46, (369, 69, 80, 120)], [47, (376, 69, 80, 120)], [48, (386, 70, 80, 120)], [49, (398, 72, 80, 120)], [50, (411, 73, 80, 120)], [51, (424, 74, 80, 120)], [52, (434, 75, 80, 120)], [53, (441, 76, 80, 120)], [54, (445, 76, 80, 120)], [55, (447, 76, 80, 120)], [56, (449, 78, 80, 120)], [57, (451, 81, 80, 120)], [58, (452, 84, 80, 120)], [59, (453, 88, 80, 120)], [60, (453, 90, 80, 120)], [61, (452, 92, 80, 120)], [62, (449, 93, 80, 120)], [63, (445, 95, 80, 120)], [64, (439, 97, 80, 120)], [65, (432, 98, 80, 120)], [66, (424, 99, 80, 120)], [67, (416, 99, 80, 120)], [68, (408, 98, 80, 120)], [69, (399, 96, 80, 120)], [70, (390, 93, 80, 120)], [71, (379, 88, 80, 120)], [72, (367, 82, 80, 120)], [73, (359, 78, 80, 120)], [74, (353, 76, 80, 120)], [75, (350, 77, 80, 120)], [76, (350, 80, 80, 120)], [77, (351, 84, 80, 120)], [78, (353, 88, 80, 120)], [79, (356, 89, 80, 120)], [80, (361, 88, 80, 120)], [81, (370, 87, 80, 120)], [82, (378, 85, 80, 120)], [83, (388, 84, 80, 120)], [84, (399, 83, 80, 120)], [85, (411, 84, 80, 120)], [86, (419, 87, 80, 120)], [87, (422, 91, 80, 120)], [88, (424, 95, 80, 120)], [89, (426, 101, 80, 120)], [90, (427, 107, 80, 120)], [91, (429, 114, 80, 120)], [92, (431, 122, 80, 120)], [93, (433, 132, 80, 120)], [94, (437, 144, 80, 120)], [95, (444, 153, 80, 120)], [96, (452, 162, 80, 120)], [97, (460, 171, 80, 120)], [98, (466, 176, 80, 120)], [99, (472, 177, 80, 120)], [100, (478, 177, 80, 120)], [101, (482, 175, 80, 120)], [102, (485, 173, 80, 120)], [104, (484, 169, 80, 120)], [105, (481, 167, 80, 120)], [106, (481, 169, 80, 120)], [107, (483, 170, 80, 120)], [108, (487, 166, 80, 120)], [109, (488, 162, 80, 120)], [110, (484, 161, 80, 120)], [111, (479, 159, 80, 120)], [112, (475, 158, 80, 120)], [113, (474, 157, 80, 120)], [114, (474, 157, 80, 120)], [115, (474, 157, 80, 120)], [116, (474, 157, 80, 120)], [117, (477, 158, 80, 120)], [118, (480, 158, 80, 120)], [119, (483, 153, 80, 120)], [120, (481, 150, 80, 120)], [121, (477, 148, 80, 120)], [122, (470, 146, 80, 120)], [123, (463, 141, 80, 120)], [124, (456, 133, 80, 120)], [125, (452, 128, 80, 120)], [126, (446, 123, 80, 120)], [127, (439, 118, 80, 120)], [242, (450, 75, 80, 120)], [243, (453, 75, 80, 120)], [244, (456, 76, 80, 120)], [245, (457, 80, 80, 120)], [246, (456, 85, 80, 120)], [247, (453, 92, 80, 120)], [248, (451, 95, 80, 120)], [249, (448, 95, 80, 120)], [250, (445, 97, 80, 120)], [251, (442, 98, 80, 120)], [252, (441, 96, 80, 120)], [253, (441, 94, 80, 120)], [254, (442, 93, 80, 120)], [255, (444, 91, 80, 120)], [256, (447, 91, 80, 120)], [257, (452, 91, 80, 120)], [258, (457, 92, 80, 120)], [259, (462, 93, 80, 120)], [260, (467, 95, 80, 120)], [261, (471, 96, 80, 120)], [262, (473, 99, 80, 120)], [263, (473, 103, 80, 120)], [264, (473, 104, 80, 120)], [265, (472, 102, 80, 120)], [266, (471, 100, 80, 120)], [267, (472, 101, 80, 120)], [268, (472, 100, 80, 120)], [269, (472, 99, 80, 120)], [270, (471, 100, 80, 120)], [271, (468, 103, 80, 120)], [272, (463, 103, 80, 120)], [273, (458, 102, 80, 120)], [274, (453, 101, 80, 120)], [275, (448, 99, 80, 120)], [276, (443, 96, 80, 120)], [277, (439, 94, 80, 120)], [278, (436, 91, 80, 120)], [279, (434, 87, 80, 120)], [280, (432, 85, 80, 120)], [281, (430, 85, 80, 120)], [282, (428, 86, 80, 120)], [283, (427, 86, 80, 120)], [284, (426, 87, 80, 120)], [285, (424, 89, 80, 120)], [286, (422, 91, 80, 120)], [287, (421, 92, 80, 120)], [288, (416, 91, 80, 120)]]}\n"
     ]
    }
   ],
   "source": [
    "import cv2 \n",
    "import numpy as np\n",
    "\n",
    "# initialize cv2 neural network face detector\n",
    "net = cv2.dnn.readNetFromCaffe(\"models/deploy.prototxt.txt\", \"models/res10_300x300_ssd_iter_140000.caffemodel\")\n",
    "\n",
    "# create function to detect faces in an image\n",
    "def detect_faces(image):\n",
    "    (h, w) = image.shape[:2]\n",
    "    blob = cv2.dnn.blobFromImage(cv2.resize(image, (300, 300)), 1.0,\n",
    "        (300, 300), (104.0, 177.0, 123.0))\n",
    "    net.setInput(blob)\n",
    "    detections = net.forward()\n",
    "    faces = []\n",
    "    for i in range(0, detections.shape[2]):\n",
    "        confidence = detections[0, 0, i, 2]\n",
    "        if confidence > 0.5:\n",
    "            box = detections[0, 0, i, 3:7] * np.array([w, h, w, h])\n",
    "            (startX, startY, endX, endY) = box.astype(\"int\")\n",
    "            faces.append((startX, startY, endX, endY))\n",
    "    return faces\n",
    "\n",
    "def to_xywh(box_xyxy):\n",
    "    x1, y1, x2, y2 = box_xyxy\n",
    "    return (int(x1), int(y1), int(x2 - x1), int(y2 - y1))\n",
    "\n",
    "# break video into array of frames \n",
    "def video_to_frames(video_path):\n",
    "    cap = cv2.VideoCapture(video_path)\n",
    "    frames = []\n",
    "    while True:\n",
    "        ret, frame = cap.read()\n",
    "        if not ret:\n",
    "            break\n",
    "        frames.append(frame)\n",
    "    cap.release()\n",
    "    return frames\n",
    "\n",
    "frames = video_to_frames(\"TheOffice.mp4\") # let's try to use a different video (of my own face) to reduce track seduction\n",
    "\n",
    "# get first frame and detect face\n",
    "first_face_bbox = to_xywh(detect_faces(frames[0])[0])\n",
    "gt = [] # ground truth boxes \n",
    "gt.append([0, first_face_bbox]) # frame number, (x, y, w, h)    \n",
    "\n",
    "tracker = cv2.TrackerCSRT_create() # Initialize the CSRT tracker\n",
    "tracker.init(frames[0], first_face_bbox) # tracker wants (x, y, w, h)\n",
    "\n",
    "goturn_tracker = cv2.TrackerGOTURN.create() # initialize the GOTURN tracker\n",
    "goturn_tracker.init(frames[0], first_face_bbox)\n",
    "\n",
    "mosse_tracker = cv2.legacy.TrackerMOSSE_create()\n",
    "mosse_tracker.init(frames[0], first_face_bbox)\n",
    "\n",
    "tracks = {\"CRST\": [],\n",
    "          \"GOTURN\": [],\n",
    "          \"MOSSE\": []}\n",
    "\n",
    "# loop through all frames and track the face\n",
    "for i, frame in enumerate(frames):\n",
    "    # Update the CRST tracker and get the new bounding box\n",
    "    success, bbox = tracker.update(frame)\n",
    "    goturn_success, goturn_bbox = goturn_tracker.update(frame)\n",
    "    mosse_success, mosse_bbox = mosse_tracker.update(frame)\n",
    "\n",
    "    if success:\n",
    "        # Draw the bounding box on the frame\n",
    "        x, y, w, h = [int(v) for v in bbox]\n",
    "        cv2.rectangle(frame, (x, y), (x + w, y + h), (0, 255, 0), 2)\n",
    "        cv2.putText(frame, \"CRST Tracking\", (100, 80), cv2.FONT_HERSHEY_SIMPLEX, 0.75, (0, 255, 0), 2)\n",
    "        tracks[\"CRST\"].append([i, (x, y, w, h)]) # store frame number and bbox\n",
    "    else:\n",
    "        # Tracking failed\n",
    "        cv2.putText(frame, \"CRST Tracking failed!\", (100, 80), cv2.FONT_HERSHEY_SIMPLEX, 0.75, (0, 0, 255), 2)\n",
    "\n",
    "    \n",
    "    if goturn_success:\n",
    "        x, y, w, h = [int(v) for v in goturn_bbox]\n",
    "        cv2.rectangle(frame, (x, y), (x + w, y + h), (255, 0, 0), 2)\n",
    "        cv2.putText(frame, \"GOTURN Tracking\", (100, 50), cv2.FONT_HERSHEY_SIMPLEX, 0.75, (255, 0, 0), 2)\n",
    "        tracks[\"GOTURN\"].append([i, (x, y, w, h)]) # store frame number and bbox\n",
    "    else:\n",
    "        cv2.putText(frame, \"GOTURN Tracking failed!\", (100, 50), cv2.FONT_HERSHEY_SIMPLEX, 0.75, (0, 0, 255), 2)\n",
    "\n",
    "\n",
    "    if mosse_success:\n",
    "        x, y, w, h = [int(v) for v in mosse_bbox]\n",
    "        cv2.rectangle(frame, (x, y), (x + w, y + h), (0, 255, 255), 2)\n",
    "        cv2.putText(frame, \"MOSSE Tracking\", (100, 110), cv2.FONT_HERSHEY_SIMPLEX, 0.75, (0, 255, 255), 2)\n",
    "        tracks[\"MOSSE\"].append([i, (x, y, w, h)]) # store frame number and bbox\n",
    "\n",
    "    # detect face for every fifth frame as ground truth\n",
    "    if i % 5 == 0 and i != 0:\n",
    "        faces = detect_faces(frame)\n",
    "        if len(faces) > 0:\n",
    "            x, y, w, h = to_xywh(faces[0])\n",
    "            gt.append([i, to_xywh(faces[0])]) # store frame number and bbox\n",
    "            cv2.rectangle(frame, (x, y), (x + w, y + h), (0, 0, 255), 2) # red box for ground truth\n",
    "            cv2.putText(frame, \"Ground Truth\", (x, y - 10), cv2.FONT_HERSHEY_SIMPLEX, 0.5, (0, 0, 255), 2)\n",
    "            \n",
    "\n",
    "    # Display the frame\n",
    "    cv2.imshow(\"Tracking\", frame)\n",
    "    # Exit on 'q' press\n",
    "    if cv2.waitKey(1) & 0xFF == ord('q'):\n",
    "        break\n",
    "    # press q to quit\n",
    "    if cv2.waitKey(1) & 0xFF == ord('q'):\n",
    "        break\n",
    "cv2.destroyAllWindows()\n",
    "\n",
    "print(\"Ground Truth:\", gt)\n",
    "print(\"Tracks:\", tracks)\n",
    "\n",
    "tracks['ground_truth'] = gt\n",
    "\n",
    "# save tracks dict as json\n",
    "import json\n",
    "with open(\"tracks.json\", \"w\") as f:\n",
    "    json.dump(tracks, f)\n"
   ]
  },
  {
   "cell_type": "code",
   "execution_count": null,
   "id": "c550837d",
   "metadata": {},
   "outputs": [
    {
     "name": "stdout",
     "output_type": "stream",
     "text": [
      "Average IoU for CRST: 0.6877\n",
      "Average IoU for GOTURN: 0.4648\n",
      "Average IoU for MOSSE: 0.6894\n"
     ]
    },
    {
     "data": {
      "image/png": "[encoded data removed]",
      "text/plain": [
       "<Figure size 640x480 with 1 Axes>"
      ]
     },
     "metadata": {},
     "output_type": "display_data"
    }
   ],
   "source": [
    "# Calculate the intersection over union (IoU) between each tracker’s predicted bounding box and the ground truth for these reference frames.\n",
    "ious = {\"CRST\": [], \"GOTURN\": [], \"MOSSE\": []}\n",
    "def bb_intersection_over_union(boxA, boxB):\n",
    "    # boxes are stored as (x,y,w,h)\n",
    "    xA = max(boxA[0], boxB[0])\n",
    "    yA = max(boxA[1], boxB[1])\n",
    "    xB = min(boxA[0] + boxA[2], boxB[0] + boxB[2])\n",
    "    yB = min(boxA[1] + boxA[3], boxB[1] + boxB[3])\n",
    "    interArea = max(0, xB - xA) * max(0, yB - yA)\n",
    "    boxAArea = boxA[2] * boxA[3]\n",
    "    boxBArea = boxB[2] * boxB[3]\n",
    "    iou = interArea / float(boxAArea + boxBArea - interArea)\n",
    "    return iou\n",
    "\n",
    "for method in [\"CRST\", \"GOTURN\", \"MOSSE\"]:\n",
    "    for gt_frame, gt_box in gt:\n",
    "        # find the corresponding box in tracks\n",
    "        pred_boxes = [box for frame, box in tracks[method] if frame == gt_frame]\n",
    "        if len(pred_boxes) > 0:\n",
    "            pred_box = pred_boxes[0]\n",
    "            iou = bb_intersection_over_union(gt_box, pred_box)\n",
    "            ious[method].append(iou)\n",
    "    if len(ious[method]) > 0:\n",
    "        avg_iou = sum(ious[method]) / len(ious[method])\n",
    "    else:\n",
    "        avg_iou = 0\n",
    "    print(f\"Average IoU for {method}: {avg_iou:.4f}\")\n",
    "\n",
    "# Create a comparison plot showing IoU over time for all three trackers on the same graph, with different colors/line styles for each tracker.\n",
    "import matplotlib.pyplot as plt\n",
    "for method, color in zip([\"CRST\", \"GOTURN\", \"MOSSE\"], ['g', 'b', 'y']):\n",
    "    plt.plot(range(len(ious[method])), ious[method], label=method, color=color)\n",
    "\n",
    "plt.xlabel(\"Reference Frame Index\")\n",
    "plt.ylabel(\"IoU\")\n",
    "plt.title(\"IoU over Time for Different Trackers\")\n",
    "plt.legend()\n",
    "plt.savefig(\"iou_comparison.png\")# save plot as png\n",
    "\n",
    "\n",
    "plt.show()\n",
    "\n"
   ]
  },
  {
   "cell_type": "markdown",
   "id": "9aacba13",
   "metadata": {},
   "source": [
    "# Qualitative Analysis \n",
    "Select two frames, one where the tracking should be very easy, and one where it should be more difficult."
   ]
  }
 ],
 "metadata": {
  "kernelspec": {
   "display_name": "compvision",
   "language": "python",
   "name": "python3"
  },
  "language_info": {
   "codemirror_mode": {
    "name": "ipython",
    "version": 3
   },
   "file_extension": ".py",
   "mimetype": "text/x-python",
   "name": "python",
   "nbconvert_exporter": "python",
   "pygments_lexer": "ipython3",
   "version": "3.9.23"
  }
 },
 "nbformat": 4,
 "nbformat_minor": 5
}
